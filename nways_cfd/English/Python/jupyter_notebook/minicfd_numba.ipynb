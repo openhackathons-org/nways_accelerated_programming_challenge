{
 "cells": [
  {
   "attachments": {},
   "cell_type": "markdown",
   "metadata": {},
   "source": [
    "# Numba Acceleration \n",
    "\n",
    "Before we begin, let us execute the below cell to display information about the NVIDIA® CUDA® driver and the GPUs running on the server by running the `nvidia-smi` command. To do this, execute the cell block below by clicking on it with your mouse, and pressing Ctrl+Enter, or pressing the play button in the toolbar above. You should see some output returned below the grey cell."
   ]
  },
  {
   "cell_type": "code",
   "execution_count": null,
   "metadata": {},
   "outputs": [],
   "source": [
    "!nvidia-smi"
   ]
  },
  {
   "attachments": {},
   "cell_type": "markdown",
   "metadata": {},
   "source": [
    "## Copy the Serial code\n",
    "\n",
    "Before start modifying the serial code, let's copy the serial code to cupy folder by running the cell below."
   ]
  },
  {
   "cell_type": "code",
   "execution_count": null,
   "metadata": {},
   "outputs": [],
   "source": [
    "!cp ../source_code/serial/* ../source_code/numba"
   ]
  },
  {
   "attachments": {},
   "cell_type": "markdown",
   "metadata": {},
   "source": [
    "## Run the Serial code"
   ]
  },
  {
   "cell_type": "code",
   "execution_count": null,
   "metadata": {},
   "outputs": [],
   "source": [
    "%run ../source_code/numba/cfd.py 64 500"
   ]
  },
  {
   "attachments": {},
   "cell_type": "markdown",
   "metadata": {},
   "source": [
    "---\n",
    "\n",
    "# Start Adding Numba Constructs\n",
    "\n",
    "Now, you can start modifying the Python code: \n",
    "\n",
    "[cfd.py](../source_code/numba/cfd.py)\n",
    "\n",
    "Remember to **SAVE** your code after changes, before running below cells.\n",
    "\n",
    "#### Some Hints\n",
    "The serial code consists of the `main, jacobi, and write_data` functions. Focus more the jacobi and main functions. Remember to import the cupy library as: ```from numba import cuda ``` at the top of your code. Check if there is any data race in your code.\n",
    "\n",
    "##  Run and Profile the CuPy code"
   ]
  },
  {
   "cell_type": "code",
   "execution_count": null,
   "metadata": {},
   "outputs": [],
   "source": [
    "!cd ../source_code/numba && nsys profile -t nvtx --stats=true --force-overwrite true -o minicfdnumba_profile python3 cfd.py 64 500"
   ]
  },
  {
   "attachments": {},
   "cell_type": "markdown",
   "metadata": {},
   "source": [
    "You can examine the output on the terminal or you can download the file and view the timeline by opening the output with the NVIDIA Nsight Systems.\n",
    "\n",
    "Download and save the report file by holding down <mark>Shift</mark> and <mark>right-clicking</mark> [here](../source_code/numba/minicfdnumba_profile.nsys-rep) then choosing <mark>save Link As</mark>. Once done, open it via the GUI.\n",
    "\n",
    "\n",
    "## Validating the Output\n",
    "\n",
    "Make sure the error value printed as output matches that of the serial code\n",
    "\n",
    "\n",
    "# Recommendations for adding Numba Constructs\n",
    "\n",
    "After finding the hotspot function take an incremental approach: \n",
    "\n",
    "1) Add `@cuda.jit()` decorator at the top of the function or rewrite the function as a raw kernel(this is rather tedious)\n",
    "\n",
    "2) You may need to perform a copy-swap data in a different kernel function\n",
    "\n",
    "3) Ignore the I/O function\n",
    "\n",
    "4) Ensure that only required data moves from `host (CPU function)` to `device (GPU function)` and vice versa\n",
    "\n",
    "5) Cross check the output after incremental changes to check algorithmic scalability\n",
    "\n",
    "6) Start with a small problem size that reduces the execution time. \n",
    "\n",
    "\n",
    "**General tip:** Be aware of *Data Race* situation in which at least two threads access a shared variable at the same time. At least on thread tries to modify the variable. If data race happened, an incorrect result will be returned. So, make sure to validate your output against the serial version.\n",
    "\n",
    "\n",
    "# Links and Resources\n",
    "\n",
    "[Introduction to Numba](https://github.com/gpuhackathons-org/gpubootcamp/tree/master/hpc/nways/nways_labs/nways_MD/English/Python/jupyter_notebook/numba/numba_guide.ipynb)\n",
    "\n",
    "[NVIDIA Nsight System](https://docs.nvidia.com/nsight-systems/)\n",
    "\n",
    "[NVIDIA CUDA Toolkit](https://developer.nvidia.com/cuda-downloads)\n",
    "\n",
    "**NOTE**: To be able to see the Nsight Systems profiler output, please download the latest version of Nsight Systems from [here](https://developer.nvidia.com/nsight-systems).\n",
    "\n",
    "Don't forget to check out additional [Open Hackathons Resources](https://www.openhackathons.org/s/technical-resources) and join our [OpenACC and Hackathons Slack Channel](https://www.openacc.org/community#slack) to share your experience and get more help from the community.\n",
    "\n",
    "\n",
    "---\n",
    "## Licensing \n",
    "\n",
    "Copyright © 2022 OpenACC-Standard.org.  This material is released by OpenACC-Standard.org, in collaboration with NVIDIA Corporation, under the Creative Commons Attribution 4.0 International (CC BY 4.0). These materials may include references to hardware and software developed by other entities; all applicable licensing and copyrights apply."
   ]
  },
  {
   "cell_type": "code",
   "execution_count": null,
   "metadata": {},
   "outputs": [],
   "source": []
  }
 ],
 "metadata": {
  "kernelspec": {
   "display_name": "Python 3",
   "language": "python",
   "name": "python3"
  },
  "language_info": {
   "codemirror_mode": {
    "name": "ipython",
    "version": 3
   },
   "file_extension": ".py",
   "mimetype": "text/x-python",
   "name": "python",
   "nbconvert_exporter": "python",
   "pygments_lexer": "ipython3",
   "version": "3.7.4"
  }
 },
 "nbformat": 4,
 "nbformat_minor": 4
}

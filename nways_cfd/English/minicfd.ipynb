{
 "cells": [
  {
   "cell_type": "markdown",
   "metadata": {},
   "source": [
    "## CFD Simulation\n",
    "In this bootcamp we will accelerate a Simple 2D regular-grid CFD simulation for teaching GPU programming using multiple approaches.\n",
    "\n",
    "### Learning objectives\n",
    "Learn how to write a portable parallel program that can run on multicore CPUs and accelerators like GPUs using OpenACC, OpenMP,std::par, CuPy, and Numba. Also learn how to optimize using lower level constructs using languages like CUDA-C. \n",
    "\n",
    "### Bootcamp Duration\n",
    "The lab material is a challenge where the particiapnts will accelerate the application using mutiple approaches to GPU programming.\n",
    "\n",
    "### Content Level\n",
    "Beginner, Intermediate\n",
    "\n",
    "### Target Audience and Prerequisites\n",
    " The target audience for this tutorial is researchers, graduate students and developers who are interested in\n",
    "harnessing the power of GPUs to accelerate their scientific applications, and evaluate which programming approach best suites their needs. \n",
    "\n",
    "\n",
    "### Start Here\n",
    "You can choose any of the following:\n",
    "\n",
    "- [C-based code](C/jupyter_notebook/minicfd.ipynb)\n",
    "- [Fortran-version](Fortran/jupyter_notebook/minicfd.ipynb)\n",
    "- [Python-based](Python/jupyter_notebook/minicfd.ipynb)\n",
    "\n",
    "\n",
    "--- \n",
    "\n",
    "## Links and Resources\n",
    "\n",
    "**NOTE**: To be able to see the Nsight Systems profiler output, please download the latest version of Nsight Systems from [here](https://developer.nvidia.com/nsight-systems).\n",
    "\n",
    "Don't forget to check out additional [Open Hackathons Resources](https://www.openhackathons.org/s/technical-resources) and join our [OpenACC and Hackathons Slack Channel](https://www.openacc.org/community#slack) to share your experience and get more help from the community.\n",
    "\n",
    "--- \n",
    "\n",
    "## Licensing \n",
    "\n",
    "Copyright © 2022 OpenACC-Standard.org.  This material is released by OpenACC-Standard.org, in collaboration with NVIDIA Corporation, under the Creative Commons Attribution 4.0 International (CC BY 4.0). These materials may include references to hardware and software developed by other entities; all applicable licensing and copyrights apply."
   ]
  }
 ],
 "metadata": {
  "anaconda-cloud": {},
  "kernelspec": {
   "display_name": "Python 3",
   "language": "python",
   "name": "python3"
  },
  "language_info": {
   "codemirror_mode": {
    "name": "ipython",
    "version": 3
   },
   "file_extension": ".py",
   "mimetype": "text/x-python",
   "name": "python",
   "nbconvert_exporter": "python",
   "pygments_lexer": "ipython3",
   "version": "3.7.4"
  }
 },
 "nbformat": 4,
 "nbformat_minor": 4
}
